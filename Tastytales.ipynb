{
  "nbformat": 4,
  "nbformat_minor": 0,
  "metadata": {
    "colab": {
      "provenance": []
    },
    "kernelspec": {
      "name": "python3",
      "display_name": "Python 3"
    },
    "language_info": {
      "name": "python"
    }
  },
  "cells": [
    {
      "cell_type": "code",
      "source": [
        "# Step 0: Install required packages\n",
        "!pip install pandas scikit-learn joblib --quiet\n",
        "\n",
        "# Step 1: Import libraries\n",
        "import pandas as pd\n",
        "from sklearn.model_selection import train_test_split\n",
        "from sklearn.feature_extraction.text import TfidfVectorizer\n",
        "from sklearn.naive_bayes import MultinomialNB\n",
        "from sklearn.metrics import classification_report\n",
        "import joblib\n",
        "from google.colab import files\n",
        "\n",
        "# Step 2: Load dataset\n",
        "file_path = '/content/recipes_10000_v2.csv'  # Specify the path to your CSV file\n",
        "\n",
        "try:\n",
        "    # Read the CSV file, skipping bad lines and specifying encoding\n",
        "    df = pd.read_csv(file_path, on_bad_lines='skip', encoding='latin-1')\n",
        "\n",
        "except FileNotFoundError:\n",
        "    print(f\"Error: The file was not found at {file_path}. Please make sure the file is in the correct location.\")\n",
        "except Exception as e:\n",
        "    print(f\"An error occurred during file loading: {e}\")\n",
        "\n",
        "# Step 3: Filter rare cuisines\n",
        "if 'df' in locals() and 'Cuisine ' in df.columns: # Corrected column name\n",
        "    counts = df['Cuisine '].value_counts() # Corrected column name\n",
        "    df = df[df['Cuisine '].isin(counts[counts >= 3].index)].copy() # Corrected column name and added .copy()\n",
        "\n",
        "    # Step 4: Prepare features and labels\n",
        "    X = df['Ingredients']  # text features\n",
        "    y = df['Cuisine ']      # labels # Corrected column name\n",
        "\n",
        "    # Split into train and test sets\n",
        "    X_train, X_test, y_train, y_test = train_test_split(\n",
        "        X, y, test_size=0.2, random_state=42, stratify=y\n",
        "    )\n",
        "\n",
        "    # Step 5: Vectorize text using TF-IDF\n",
        "    vectorizer = TfidfVectorizer(stop_words='english', max_features=1000)\n",
        "    X_train_vec = vectorizer.fit_transform(X_train)\n",
        "    X_test_vec = vectorizer.transform(X_test)\n",
        "\n",
        "    # Step 6: Train classifier (Multinomial Naive Bayes)\n",
        "    clf = MultinomialNB()\n",
        "    clf.fit(X_train_vec, y_train)\n",
        "\n",
        "    # Step 7: Evaluate model\n",
        "    y_pred = clf.predict(X_test_vec)\n",
        "    print(\"Classification Report:\\n\")\n",
        "    print(classification_report(y_test, y_pred))\n",
        "\n",
        "    # Step 8: Save model and vectorizer\n",
        "    joblib.dump(clf, 'cuisine_model.pkl')\n",
        "    joblib.dump(vectorizer, 'vectorizer.pkl')\n",
        "    print(\"Model and vectorizer saved as 'cuisine_model.pkl' and 'vectorizer.pkl'.\")\n",
        "\n",
        "    # Step 9: Automatically download the .pkl files\n",
        "    try:\n",
        "      files.download('cuisine_model.pkl')\n",
        "      files.download('vectorizer.pkl')\n",
        "    except Exception as e:\n",
        "      print(f\"Error downloading files: {e}\")\n",
        "\n",
        "\n",
        "    # Step 10: Function to predict cuisine for any recipe\n",
        "    def predict_cuisine(ingredients_text):\n",
        "        vec = vectorizer.transform([ingredients_text])\n",
        "        return clf.predict(vec)[0]\n",
        "\n",
        "    # Example usage\n",
        "    example_recipe = \"chicken, garlic, ginger, soy sauce\"\n",
        "    print(f\"Predicted cuisine for example recipe: {predict_cuisine(example_recipe)}\")\n",
        "else:\n",
        "    print(\"DataFrame was not loaded or 'Cuisine ' column is missing. Cannot proceed with model training and evaluation.\") # Corrected message"
      ],
      "metadata": {
        "colab": {
          "base_uri": "https://localhost:8080/",
          "height": 589
        },
        "id": "f4qHXe7hO7sK",
        "outputId": "a6b553d7-4434-4bdd-b74d-35427420aee3"
      },
      "execution_count": null,
      "outputs": [
        {
          "output_type": "stream",
          "name": "stdout",
          "text": [
            "Error: The file was not found at /content/recipes_10000_v2.csv. Please make sure the file is in the correct location.\n",
            "Classification Report:\n",
            "\n",
            "               precision    recall  f1-score   support\n",
            "\n",
            "     American       0.06      0.04      0.05        99\n",
            "    Brazilian       0.00      0.00      0.00        96\n",
            "    Caribbean       0.04      0.06      0.05       101\n",
            "      Chinese       0.00      0.00      0.00        92\n",
            "    Ethiopian       0.04      0.04      0.04       101\n",
            "       French       0.05      0.07      0.06        99\n",
            "        Greek       0.03      0.01      0.02        96\n",
            "       Indian       0.00      0.00      0.00        94\n",
            "      Italian       0.03      0.05      0.04       100\n",
            "     Japanese       0.07      0.07      0.07       104\n",
            "       Korean       0.05      0.03      0.04        97\n",
            "     Lebanese       0.12      0.09      0.10       102\n",
            "Mediterranean       0.06      0.05      0.06        92\n",
            "      Mexican       0.00      0.00      0.00        95\n",
            "     Moroccan       0.06      0.05      0.05       104\n",
            "     Peruvian       0.06      0.04      0.05       103\n",
            "      Spanish       0.06      0.06      0.06       104\n",
            "         Thai       0.04      0.13      0.06       114\n",
            "      Turkish       0.00      0.00      0.00        97\n",
            "   Vietnamese       0.04      0.10      0.05       110\n",
            "\n",
            "     accuracy                           0.05      2000\n",
            "    macro avg       0.04      0.04      0.04      2000\n",
            " weighted avg       0.04      0.05      0.04      2000\n",
            "\n",
            "Model and vectorizer saved as 'cuisine_model.pkl' and 'vectorizer.pkl'.\n"
          ]
        },
        {
          "output_type": "display_data",
          "data": {
            "text/plain": [
              "<IPython.core.display.Javascript object>"
            ],
            "application/javascript": [
              "\n",
              "    async function download(id, filename, size) {\n",
              "      if (!google.colab.kernel.accessAllowed) {\n",
              "        return;\n",
              "      }\n",
              "      const div = document.createElement('div');\n",
              "      const label = document.createElement('label');\n",
              "      label.textContent = `Downloading \"${filename}\": `;\n",
              "      div.appendChild(label);\n",
              "      const progress = document.createElement('progress');\n",
              "      progress.max = size;\n",
              "      div.appendChild(progress);\n",
              "      document.body.appendChild(div);\n",
              "\n",
              "      const buffers = [];\n",
              "      let downloaded = 0;\n",
              "\n",
              "      const channel = await google.colab.kernel.comms.open(id);\n",
              "      // Send a message to notify the kernel that we're ready.\n",
              "      channel.send({})\n",
              "\n",
              "      for await (const message of channel.messages) {\n",
              "        // Send a message to notify the kernel that we're ready.\n",
              "        channel.send({})\n",
              "        if (message.buffers) {\n",
              "          for (const buffer of message.buffers) {\n",
              "            buffers.push(buffer);\n",
              "            downloaded += buffer.byteLength;\n",
              "            progress.value = downloaded;\n",
              "          }\n",
              "        }\n",
              "      }\n",
              "      const blob = new Blob(buffers, {type: 'application/binary'});\n",
              "      const a = document.createElement('a');\n",
              "      a.href = window.URL.createObjectURL(blob);\n",
              "      a.download = filename;\n",
              "      div.appendChild(a);\n",
              "      a.click();\n",
              "      div.remove();\n",
              "    }\n",
              "  "
            ]
          },
          "metadata": {}
        },
        {
          "output_type": "display_data",
          "data": {
            "text/plain": [
              "<IPython.core.display.Javascript object>"
            ],
            "application/javascript": [
              "download(\"download_b0dd5be2-7663-4200-8058-7aebc36cb4a4\", \"cuisine_model.pkl\", 19703)"
            ]
          },
          "metadata": {}
        },
        {
          "output_type": "display_data",
          "data": {
            "text/plain": [
              "<IPython.core.display.Javascript object>"
            ],
            "application/javascript": [
              "\n",
              "    async function download(id, filename, size) {\n",
              "      if (!google.colab.kernel.accessAllowed) {\n",
              "        return;\n",
              "      }\n",
              "      const div = document.createElement('div');\n",
              "      const label = document.createElement('label');\n",
              "      label.textContent = `Downloading \"${filename}\": `;\n",
              "      div.appendChild(label);\n",
              "      const progress = document.createElement('progress');\n",
              "      progress.max = size;\n",
              "      div.appendChild(progress);\n",
              "      document.body.appendChild(div);\n",
              "\n",
              "      const buffers = [];\n",
              "      let downloaded = 0;\n",
              "\n",
              "      const channel = await google.colab.kernel.comms.open(id);\n",
              "      // Send a message to notify the kernel that we're ready.\n",
              "      channel.send({})\n",
              "\n",
              "      for await (const message of channel.messages) {\n",
              "        // Send a message to notify the kernel that we're ready.\n",
              "        channel.send({})\n",
              "        if (message.buffers) {\n",
              "          for (const buffer of message.buffers) {\n",
              "            buffers.push(buffer);\n",
              "            downloaded += buffer.byteLength;\n",
              "            progress.value = downloaded;\n",
              "          }\n",
              "        }\n",
              "      }\n",
              "      const blob = new Blob(buffers, {type: 'application/binary'});\n",
              "      const a = document.createElement('a');\n",
              "      a.href = window.URL.createObjectURL(blob);\n",
              "      a.download = filename;\n",
              "      div.appendChild(a);\n",
              "      a.click();\n",
              "      div.remove();\n",
              "    }\n",
              "  "
            ]
          },
          "metadata": {}
        },
        {
          "output_type": "display_data",
          "data": {
            "text/plain": [
              "<IPython.core.display.Javascript object>"
            ],
            "application/javascript": [
              "download(\"download_3b92d29c-4d07-4eb5-a460-210e82e99a2c\", \"vectorizer.pkl\", 2859)"
            ]
          },
          "metadata": {}
        },
        {
          "output_type": "stream",
          "name": "stdout",
          "text": [
            "Predicted cuisine for example recipe: American\n"
          ]
        }
      ]
    }
  ]
}